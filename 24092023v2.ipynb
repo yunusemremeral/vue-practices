{
  "nbformat": 4,
  "nbformat_minor": 0,
  "metadata": {
    "colab": {
      "provenance": [],
      "gpuType": "T4",
      "include_colab_link": true
    },
    "kernelspec": {
      "name": "python3",
      "display_name": "Python 3"
    },
    "language_info": {
      "name": "python"
    },
    "accelerator": "GPU"
  },
  "cells": [
    {
      "cell_type": "markdown",
      "metadata": {
        "id": "view-in-github",
        "colab_type": "text"
      },
      "source": [
        "<a href=\"https://colab.research.google.com/github/yunusemremeral/vue-practices/blob/master/24092023v2.ipynb\" target=\"_parent\"><img src=\"https://colab.research.google.com/assets/colab-badge.svg\" alt=\"Open In Colab\"/></a>"
      ]
    },
    {
      "cell_type": "code",
      "execution_count": 35,
      "metadata": {
        "id": "wTrAG91Z70MU"
      },
      "outputs": [],
      "source": [
        "import pathlib\n",
        "import tensorflow as tf\n",
        "import matplotlib.pyplot as plt\n",
        "import numpy as np\n",
        "import pandas as pd\n",
        "import os\n",
        "import PIL\n",
        "from tensorflow import keras\n",
        "from tensorflow.keras import layers\n",
        "from tensorflow.keras.models import Sequential\n",
        "from glob import glob\n",
        "from tensorflow.keras.layers.experimental.preprocessing import Rescaling\n",
        "from tensorflow.keras.layers import Dense, Dropout, Activation, Flatten, BatchNormalization, Conv2D, MaxPooling2D\n"
      ]
    },
    {
      "cell_type": "code",
      "source": [
        "from google.colab import drive\n",
        "drive.mount('/content/drive')"
      ],
      "metadata": {
        "colab": {
          "base_uri": "https://localhost:8080/",
          "height": 0
        },
        "id": "hxUb2WvUICmg",
        "outputId": "395d891c-c543-4d35-b8b2-cbf1c6529b64"
      },
      "execution_count": 36,
      "outputs": [
        {
          "output_type": "stream",
          "name": "stdout",
          "text": [
            "Drive already mounted at /content/drive; to attempt to forcibly remount, call drive.mount(\"/content/drive\", force_remount=True).\n"
          ]
        }
      ]
    },
    {
      "cell_type": "code",
      "source": [
        "!pip install Augmentor"
      ],
      "metadata": {
        "colab": {
          "base_uri": "https://localhost:8080/",
          "height": 0
        },
        "id": "ujhb-TkLFLbj",
        "outputId": "cdae305f-f25c-4e89-a599-10883efc4168"
      },
      "execution_count": 37,
      "outputs": [
        {
          "output_type": "stream",
          "name": "stdout",
          "text": [
            "Requirement already satisfied: Augmentor in /usr/local/lib/python3.10/dist-packages (0.2.12)\n",
            "Requirement already satisfied: Pillow>=5.2.0 in /usr/local/lib/python3.10/dist-packages (from Augmentor) (9.4.0)\n",
            "Requirement already satisfied: tqdm>=4.9.0 in /usr/local/lib/python3.10/dist-packages (from Augmentor) (4.66.1)\n",
            "Requirement already satisfied: numpy>=1.11.0 in /usr/local/lib/python3.10/dist-packages (from Augmentor) (1.23.5)\n"
          ]
        }
      ]
    },
    {
      "cell_type": "code",
      "source": [
        "train_path=\"/content/drive/MyDrive/fabrics/TEZ/cType_1/\"\n",
        "#test_path=\"/content/drive/MyDrive/fabrics/TEZ/cType_1/\"\n",
        "data_dir_train = pathlib.Path(train_path)\n",
        "#data_dir_test = pathlib.Path(test_path)"
      ],
      "metadata": {
        "id": "n3myEnLK8HGJ"
      },
      "execution_count": 38,
      "outputs": []
    },
    {
      "cell_type": "code",
      "source": [
        "image_count_train = len(list(data_dir_train.glob('*/*.jpeg')))\n",
        "print(image_count_train)\n",
        "#image_count_test = len(list(data_dir_test.glob('*/*.jpeg')))\n",
        "#print(image_count_test)"
      ],
      "metadata": {
        "colab": {
          "base_uri": "https://localhost:8080/",
          "height": 0
        },
        "id": "89-goSnL8HxZ",
        "outputId": "ffe3aa9b-f102-488f-9c79-ae1ec61ba71a"
      },
      "execution_count": 39,
      "outputs": [
        {
          "output_type": "stream",
          "name": "stdout",
          "text": [
            "400\n"
          ]
        }
      ]
    },
    {
      "cell_type": "code",
      "source": [
        "batch_size = 32\n",
        "img_height = 512\n",
        "img_width = 768"
      ],
      "metadata": {
        "id": "80w5x7nN8JeC"
      },
      "execution_count": 40,
      "outputs": []
    },
    {
      "cell_type": "code",
      "source": [
        "train_ds = tf.keras.preprocessing.image_dataset_from_directory(\n",
        "  data_dir_train,\n",
        "  seed=123, label_mode='categorical',\n",
        "  validation_split = 0.2,\n",
        "  subset = 'training',\n",
        "  image_size=(img_height, img_width),\n",
        "  batch_size=batch_size)"
      ],
      "metadata": {
        "colab": {
          "base_uri": "https://localhost:8080/",
          "height": 0
        },
        "id": "tevBuFctGvFS",
        "outputId": "a5bebc4c-e398-46ec-a823-18840f435c15"
      },
      "execution_count": 41,
      "outputs": [
        {
          "output_type": "stream",
          "name": "stdout",
          "text": [
            "Found 440 files belonging to 8 classes.\n",
            "Using 352 files for training.\n"
          ]
        }
      ]
    },
    {
      "cell_type": "code",
      "source": [
        "class_names = train_ds.class_names\n",
        "print(class_names)"
      ],
      "metadata": {
        "colab": {
          "base_uri": "https://localhost:8080/",
          "height": 0
        },
        "id": "ZHcvU2ui8Nj3",
        "outputId": "a5b2b775-96be-46e2-e6f9-8e4238cad387"
      },
      "execution_count": 42,
      "outputs": [
        {
          "output_type": "stream",
          "name": "stdout",
          "text": [
            "['e0', 'e1', 'e2', 'e3', 'e4', 'e5', 'e6', 'e7']\n"
          ]
        }
      ]
    },
    {
      "cell_type": "code",
      "source": [
        "val_ds = tf.keras.preprocessing.image_dataset_from_directory(\n",
        "  data_dir_train,\n",
        "  seed=123, label_mode='categorical',\n",
        "  validation_split = 0.2,\n",
        "  subset = 'validation',\n",
        "  image_size=(img_height, img_width),\n",
        "  batch_size=batch_size)"
      ],
      "metadata": {
        "colab": {
          "base_uri": "https://localhost:8080/",
          "height": 0
        },
        "id": "FxRtawPeGyFP",
        "outputId": "dd526442-f7bb-4959-af3d-e8afa2ad032b"
      },
      "execution_count": 43,
      "outputs": [
        {
          "output_type": "stream",
          "name": "stdout",
          "text": [
            "Found 440 files belonging to 8 classes.\n",
            "Using 88 files for validation.\n"
          ]
        }
      ]
    },
    {
      "cell_type": "code",
      "source": [
        "path_to_training_dataset=train_path\n",
        "import Augmentor\n",
        "for i in class_names:\n",
        "    p = Augmentor.Pipeline(train_path + i)\n",
        "    p.rotate(probability=0.7, max_left_rotation=10, max_right_rotation=10)\n",
        "    p.sample(495) ## We are adding 500 samples per class to make sure that none of the classes are sparse."
      ],
      "metadata": {
        "colab": {
          "base_uri": "https://localhost:8080/",
          "height": 0
        },
        "id": "C5i5A3ViFgGI",
        "outputId": "d9248bfa-87c1-424a-be54-c6fb1d674bdf"
      },
      "execution_count": 44,
      "outputs": [
        {
          "output_type": "stream",
          "name": "stdout",
          "text": [
            "Initialised with 50 image(s) found.\n",
            "Output directory set to /content/drive/MyDrive/fabrics/TEZ/cType_1/e0/output."
          ]
        },
        {
          "output_type": "stream",
          "name": "stderr",
          "text": [
            "Processing <PIL.Image.Image image mode=RGB size=768x512 at 0x7C57F4B69960>: 100%|██████████| 495/495 [00:28<00:00, 17.23 Samples/s]\n"
          ]
        },
        {
          "output_type": "stream",
          "name": "stdout",
          "text": [
            "Initialised with 50 image(s) found.\n",
            "Output directory set to /content/drive/MyDrive/fabrics/TEZ/cType_1/e1/output."
          ]
        },
        {
          "output_type": "stream",
          "name": "stderr",
          "text": [
            "Processing <PIL.Image.Image image mode=RGB size=768x512 at 0x7C5764553BB0>: 100%|██████████| 495/495 [00:27<00:00, 17.82 Samples/s]\n"
          ]
        },
        {
          "output_type": "stream",
          "name": "stdout",
          "text": [
            "Initialised with 50 image(s) found.\n",
            "Output directory set to /content/drive/MyDrive/fabrics/TEZ/cType_1/e2/output."
          ]
        },
        {
          "output_type": "stream",
          "name": "stderr",
          "text": [
            "Processing <PIL.Image.Image image mode=RGB size=768x512 at 0x7C56D03766B0>: 100%|██████████| 495/495 [00:23<00:00, 21.31 Samples/s]\n"
          ]
        },
        {
          "output_type": "stream",
          "name": "stdout",
          "text": [
            "Initialised with 50 image(s) found.\n",
            "Output directory set to /content/drive/MyDrive/fabrics/TEZ/cType_1/e3/output."
          ]
        },
        {
          "output_type": "stream",
          "name": "stderr",
          "text": [
            "Processing <PIL.Image.Image image mode=RGB size=768x512 at 0x7C56D03ADAE0>: 100%|██████████| 495/495 [00:21<00:00, 23.49 Samples/s]\n"
          ]
        },
        {
          "output_type": "stream",
          "name": "stdout",
          "text": [
            "Initialised with 50 image(s) found.\n",
            "Output directory set to /content/drive/MyDrive/fabrics/TEZ/cType_1/e4/output."
          ]
        },
        {
          "output_type": "stream",
          "name": "stderr",
          "text": [
            "Processing <PIL.JpegImagePlugin.JpegImageFile image mode=RGB size=768x512 at 0x7C56D035E2F0>: 100%|██████████| 495/495 [00:22<00:00, 22.01 Samples/s]\n"
          ]
        },
        {
          "output_type": "stream",
          "name": "stdout",
          "text": [
            "Initialised with 50 image(s) found.\n",
            "Output directory set to /content/drive/MyDrive/fabrics/TEZ/cType_1/e5/output."
          ]
        },
        {
          "output_type": "stream",
          "name": "stderr",
          "text": [
            "Processing <PIL.JpegImagePlugin.JpegImageFile image mode=RGB size=768x512 at 0x7C56D03765F0>: 100%|██████████| 495/495 [00:26<00:00, 18.73 Samples/s]\n"
          ]
        },
        {
          "output_type": "stream",
          "name": "stdout",
          "text": [
            "Initialised with 50 image(s) found.\n",
            "Output directory set to /content/drive/MyDrive/fabrics/TEZ/cType_1/e6/output."
          ]
        },
        {
          "output_type": "stream",
          "name": "stderr",
          "text": [
            "Processing <PIL.Image.Image image mode=RGB size=768x512 at 0x7C56D03ADDE0>: 100%|██████████| 495/495 [00:21<00:00, 23.25 Samples/s]\n"
          ]
        },
        {
          "output_type": "stream",
          "name": "stdout",
          "text": [
            "Initialised with 50 image(s) found.\n",
            "Output directory set to /content/drive/MyDrive/fabrics/TEZ/cType_1/e7/output."
          ]
        },
        {
          "output_type": "stream",
          "name": "stderr",
          "text": [
            "Processing <PIL.Image.Image image mode=RGB size=768x512 at 0x7C57F4B699F0>: 100%|██████████| 495/495 [00:23<00:00, 21.49 Samples/s]\n"
          ]
        }
      ]
    },
    {
      "cell_type": "code",
      "source": [
        "image_count_train = len(list(data_dir_train.glob('*/output/*.jpeg')))\n",
        "print(image_count_train)"
      ],
      "metadata": {
        "colab": {
          "base_uri": "https://localhost:8080/",
          "height": 0
        },
        "id": "Hqu4GbtiGe66",
        "outputId": "236d150f-ee4e-4e65-f766-598c207afa0e"
      },
      "execution_count": 45,
      "outputs": [
        {
          "output_type": "stream",
          "name": "stdout",
          "text": [
            "4000\n"
          ]
        }
      ]
    },
    {
      "cell_type": "code",
      "source": [
        "train_ds = tf.keras.preprocessing.image_dataset_from_directory(\n",
        "  data_dir_train,\n",
        "  seed=123, label_mode='categorical',\n",
        "  validation_split = 0.2,\n",
        "  subset = 'training',\n",
        "  image_size=(img_height, img_width),\n",
        "  batch_size=batch_size)"
      ],
      "metadata": {
        "colab": {
          "base_uri": "https://localhost:8080/",
          "height": 0
        },
        "id": "I6D8u6kXjtoh",
        "outputId": "84beb360-c96e-4712-ac92-34c45d9896d5"
      },
      "execution_count": 57,
      "outputs": [
        {
          "output_type": "stream",
          "name": "stdout",
          "text": [
            "Found 4400 files belonging to 8 classes.\n",
            "Using 3520 files for training.\n"
          ]
        }
      ]
    },
    {
      "cell_type": "code",
      "source": [
        "path_list = [x for x in glob(os.path.join(data_dir_train, '*','output', '*.jpeg'))]"
      ],
      "metadata": {
        "id": "fuX0R3nVGoRM"
      },
      "execution_count": 58,
      "outputs": []
    },
    {
      "cell_type": "code",
      "source": [
        "lesion_list_new = [os.path.basename(os.path.dirname(os.path.dirname(y))) for y in glob(os.path.join(data_dir_train, '*','output', '*.jpeg'))]\n"
      ],
      "metadata": {
        "id": "HyA-x9JQGqkP"
      },
      "execution_count": 59,
      "outputs": []
    },
    {
      "cell_type": "code",
      "source": [
        "dataframe_dict_new = dict(zip(path_list, lesion_list_new))"
      ],
      "metadata": {
        "id": "6dsj3QDiGsNZ"
      },
      "execution_count": 60,
      "outputs": []
    },
    {
      "cell_type": "code",
      "source": [
        "for i in class_names:\n",
        "    directory =train_path+i+'/'\n",
        "    directory_out =train_path+i+'/output/'\n",
        "    class_directory = pathlib.Path(directory)\n",
        "    class_directory_out = pathlib.Path(directory_out)\n",
        "    length=len(list(class_directory.glob('*.jpeg')))\n",
        "    length_out=len(list(class_directory_out.glob('*.jpeg')))\n",
        "    length_tot=length+length_out\n",
        "    print(f'{i} has {length_tot} samples.')"
      ],
      "metadata": {
        "colab": {
          "base_uri": "https://localhost:8080/",
          "height": 0
        },
        "id": "-f8nOSPHGt_m",
        "outputId": "9cfa78b0-75f9-44f0-ce06-f4de785d35ab"
      },
      "execution_count": 61,
      "outputs": [
        {
          "output_type": "stream",
          "name": "stdout",
          "text": [
            "e0 has 550 samples.\n",
            "e1 has 550 samples.\n",
            "e2 has 550 samples.\n",
            "e3 has 550 samples.\n",
            "e4 has 550 samples.\n",
            "e5 has 550 samples.\n",
            "e6 has 550 samples.\n",
            "e7 has 550 samples.\n"
          ]
        }
      ]
    },
    {
      "cell_type": "code",
      "source": [
        "model_final=Sequential([\n",
        "    tf.keras.layers.experimental.preprocessing.Rescaling(scale=1./255., offset=0.0,),\n",
        "\n",
        "    Conv2D(32,(3,3),input_shape=(img_height,img_width,3),activation='relu',padding='same'),\n",
        "    MaxPooling2D(pool_size=(2,2)),\n",
        "    Dropout(0.1),\n",
        "\n",
        "    Conv2D(64,(3,3),activation='relu',padding='same'),\n",
        "    MaxPooling2D(pool_size=(2,2)),\n",
        "    Dropout(0.1),\n",
        "\n",
        "    Flatten(),\n",
        "    Dense(128, activation='relu'),\n",
        "    Dropout(0.25),\n",
        "    Dense(8, activation='softmax')\n",
        "])"
      ],
      "metadata": {
        "id": "EOXyAYr8G0Sj"
      },
      "execution_count": 62,
      "outputs": []
    },
    {
      "cell_type": "code",
      "source": [
        "model_final.compile(optimizer='adam',\n",
        "              loss='categorical_crossentropy',\n",
        "              metrics='accuracy')"
      ],
      "metadata": {
        "id": "EEAxFA_dG4bb"
      },
      "execution_count": 63,
      "outputs": []
    },
    {
      "cell_type": "code",
      "source": [
        "epochs = 30\n",
        "## Your code goes here, use 50 epochs.\n",
        "history = model_final.fit(\n",
        "  train_ds,\n",
        "  validation_data=val_ds,\n",
        "  epochs=epochs\n",
        ")"
      ],
      "metadata": {
        "colab": {
          "base_uri": "https://localhost:8080/",
          "height": 0
        },
        "id": "RYIhfUuOG6vT",
        "outputId": "8366083e-5062-4c50-efbf-17df6e925f3b"
      },
      "execution_count": 64,
      "outputs": [
        {
          "output_type": "stream",
          "name": "stdout",
          "text": [
            "Epoch 1/30\n",
            "110/110 [==============================] - 80s 690ms/step - loss: 9.3561 - accuracy: 0.1202 - val_loss: 2.0791 - val_accuracy: 0.1477\n",
            "Epoch 2/30\n",
            "110/110 [==============================] - 76s 681ms/step - loss: 2.0814 - accuracy: 0.1315 - val_loss: 2.0799 - val_accuracy: 0.1136\n",
            "Epoch 3/30\n",
            "110/110 [==============================] - 76s 684ms/step - loss: 2.0784 - accuracy: 0.1358 - val_loss: 2.0803 - val_accuracy: 0.1136\n",
            "Epoch 4/30\n",
            "110/110 [==============================] - 76s 682ms/step - loss: 2.0735 - accuracy: 0.1355 - val_loss: 2.0775 - val_accuracy: 0.1023\n",
            "Epoch 5/30\n",
            "110/110 [==============================] - 76s 684ms/step - loss: 2.0609 - accuracy: 0.1489 - val_loss: 2.0858 - val_accuracy: 0.1023\n",
            "Epoch 6/30\n",
            "110/110 [==============================] - 76s 681ms/step - loss: 1.9764 - accuracy: 0.1974 - val_loss: 1.9784 - val_accuracy: 0.2273\n",
            "Epoch 7/30\n",
            "110/110 [==============================] - 75s 671ms/step - loss: 1.8220 - accuracy: 0.2605 - val_loss: 1.9758 - val_accuracy: 0.1705\n",
            "Epoch 8/30\n",
            "110/110 [==============================] - 73s 659ms/step - loss: 1.6637 - accuracy: 0.3330 - val_loss: 2.5213 - val_accuracy: 0.1364\n",
            "Epoch 9/30\n",
            "110/110 [==============================] - 74s 662ms/step - loss: 1.4489 - accuracy: 0.4222 - val_loss: 2.7813 - val_accuracy: 0.1364\n",
            "Epoch 10/30\n",
            "110/110 [==============================] - 75s 670ms/step - loss: 1.2710 - accuracy: 0.4997 - val_loss: 2.3878 - val_accuracy: 0.2045\n",
            "Epoch 11/30\n",
            "110/110 [==============================] - 74s 666ms/step - loss: 1.1741 - accuracy: 0.5364 - val_loss: 2.6539 - val_accuracy: 0.2500\n",
            "Epoch 12/30\n",
            "110/110 [==============================] - 73s 659ms/step - loss: 1.1252 - accuracy: 0.5622 - val_loss: 1.0234 - val_accuracy: 0.6477\n",
            "Epoch 13/30\n",
            "110/110 [==============================] - 74s 665ms/step - loss: 1.0475 - accuracy: 0.5889 - val_loss: 1.8368 - val_accuracy: 0.3295\n",
            "Epoch 14/30\n",
            "110/110 [==============================] - 74s 663ms/step - loss: 0.9223 - accuracy: 0.6503 - val_loss: 0.6956 - val_accuracy: 0.7386\n",
            "Epoch 15/30\n",
            "110/110 [==============================] - 73s 660ms/step - loss: 0.7599 - accuracy: 0.7159 - val_loss: 1.1791 - val_accuracy: 0.6023\n",
            "Epoch 16/30\n",
            "110/110 [==============================] - 74s 663ms/step - loss: 0.6884 - accuracy: 0.7486 - val_loss: 0.6536 - val_accuracy: 0.7841\n",
            "Epoch 17/30\n",
            "110/110 [==============================] - 74s 663ms/step - loss: 0.6292 - accuracy: 0.7730 - val_loss: 0.3906 - val_accuracy: 0.8409\n",
            "Epoch 18/30\n",
            "110/110 [==============================] - 74s 664ms/step - loss: 0.5416 - accuracy: 0.8071 - val_loss: 0.3884 - val_accuracy: 0.8523\n",
            "Epoch 19/30\n",
            "110/110 [==============================] - 74s 664ms/step - loss: 0.4767 - accuracy: 0.8244 - val_loss: 0.3671 - val_accuracy: 0.8523\n",
            "Epoch 20/30\n",
            "110/110 [==============================] - 75s 664ms/step - loss: 0.4994 - accuracy: 0.8190 - val_loss: 0.2301 - val_accuracy: 0.9091\n",
            "Epoch 21/30\n",
            "110/110 [==============================] - 76s 672ms/step - loss: 0.4021 - accuracy: 0.8520 - val_loss: 0.2273 - val_accuracy: 0.9205\n",
            "Epoch 22/30\n",
            "110/110 [==============================] - 74s 663ms/step - loss: 0.3745 - accuracy: 0.8634 - val_loss: 0.2340 - val_accuracy: 0.9091\n",
            "Epoch 23/30\n",
            "110/110 [==============================] - 76s 680ms/step - loss: 0.3599 - accuracy: 0.8693 - val_loss: 0.3290 - val_accuracy: 0.8864\n",
            "Epoch 24/30\n",
            "110/110 [==============================] - 75s 671ms/step - loss: 0.4082 - accuracy: 0.8517 - val_loss: 0.1213 - val_accuracy: 0.9659\n",
            "Epoch 25/30\n",
            "110/110 [==============================] - 75s 671ms/step - loss: 0.2647 - accuracy: 0.9048 - val_loss: 0.1525 - val_accuracy: 0.9545\n",
            "Epoch 26/30\n",
            "110/110 [==============================] - 74s 661ms/step - loss: 0.4363 - accuracy: 0.8446 - val_loss: 0.2434 - val_accuracy: 0.9205\n",
            "Epoch 27/30\n",
            "110/110 [==============================] - 74s 665ms/step - loss: 0.2850 - accuracy: 0.8974 - val_loss: 0.1166 - val_accuracy: 0.9545\n",
            "Epoch 28/30\n",
            "110/110 [==============================] - 74s 663ms/step - loss: 0.2693 - accuracy: 0.9017 - val_loss: 0.1229 - val_accuracy: 0.9773\n",
            "Epoch 29/30\n",
            "110/110 [==============================] - 74s 664ms/step - loss: 0.2866 - accuracy: 0.8966 - val_loss: 0.3798 - val_accuracy: 0.8864\n",
            "Epoch 30/30\n",
            "110/110 [==============================] - 74s 663ms/step - loss: 0.2184 - accuracy: 0.9230 - val_loss: 0.0654 - val_accuracy: 0.9773\n"
          ]
        }
      ]
    },
    {
      "cell_type": "code",
      "source": [
        "import os\n",
        "model_final.save(f\"./models/v2\")\n",
        "!zip -r /content/defact_detection_highest.zip /content/models"
      ],
      "metadata": {
        "colab": {
          "base_uri": "https://localhost:8080/",
          "height": 0
        },
        "id": "4fcqkZd0Thiq",
        "outputId": "35318eaa-6b0b-499d-b38d-79fb3b88f20f"
      },
      "execution_count": 53,
      "outputs": [
        {
          "output_type": "stream",
          "name": "stdout",
          "text": [
            "  adding: content/models/ (stored 0%)\n",
            "  adding: content/models/v2/ (stored 0%)\n",
            "  adding: content/models/v2/variables/ (stored 0%)\n",
            "  adding: content/models/v2/variables/variables.index (deflated 62%)\n",
            "  adding: content/models/v2/variables/variables.data-00000-of-00001 (deflated 18%)\n",
            "  adding: content/models/v2/keras_metadata.pb (deflated 90%)\n",
            "  adding: content/models/v2/saved_model.pb (deflated 88%)\n",
            "  adding: content/models/v2/fingerprint.pb (stored 0%)\n",
            "  adding: content/models/v2/assets/ (stored 0%)\n"
          ]
        }
      ]
    },
    {
      "cell_type": "code",
      "source": [
        "acc = history.history['accuracy']\n",
        "val_acc = history.history['val_accuracy']\n",
        "\n",
        "loss = history.history['loss']\n",
        "val_loss = history.history['val_loss']\n",
        "\n",
        "epochs_range = range(epochs)\n",
        "\n",
        "plt.figure(figsize=(8, 8))\n",
        "plt.subplot(1, 2, 1)\n",
        "plt.plot(epochs_range, acc, label='Training Accuracy')\n",
        "plt.plot(epochs_range, val_acc, label='Validation Accuracy')\n",
        "plt.legend(loc='lower right')\n",
        "plt.title('Training and Validation Accuracy')\n",
        "\n",
        "plt.subplot(1, 2, 2)\n",
        "plt.plot(epochs_range, loss, label='Training Loss')\n",
        "plt.plot(epochs_range, val_loss, label='Validation Loss')\n",
        "plt.legend(loc='upper right')\n",
        "plt.title('Training and Validation Loss')\n",
        "plt.show()"
      ],
      "metadata": {
        "colab": {
          "base_uri": "https://localhost:8080/",
          "height": 699
        },
        "id": "ylIlfw5nT4pM",
        "outputId": "8c62e81d-a813-47e1-a0b2-77db6d29b97c"
      },
      "execution_count": 65,
      "outputs": [
        {
          "output_type": "display_data",
          "data": {
            "text/plain": [
              "<Figure size 800x800 with 2 Axes>"
            ],
            "image/png": "[encoded data removed]"
          },
          "metadata": {}
        }
      ]
    },
    {
      "cell_type": "code",
      "source": [
        "model_final.predict(val_ds)"
      ],
      "metadata": {
        "colab": {
          "base_uri": "https://localhost:8080/",
          "height": 0
        },
        "id": "ItsbN_KIX1iS",
        "outputId": "7895a820-1d0b-477e-d3cc-9eb97f9f37bd"
      },
      "execution_count": 55,
      "outputs": [
        {
          "output_type": "stream",
          "name": "stdout",
          "text": [
            "3/3 [==============================] - 1s 101ms/step\n"
          ]
        },
        {
          "output_type": "execute_result",
          "data": {
            "text/plain": [
              "array([[0.12728576, 0.12172253, 0.12692373, 0.1280421 , 0.12733345,\n",
              "        0.12783256, 0.11451042, 0.12634945],\n",
              "       [0.12731627, 0.12145251, 0.12666172, 0.12774159, 0.12759817,\n",
              "        0.12828739, 0.11535446, 0.12558794],\n",
              "       [0.12727508, 0.12168097, 0.12687016, 0.12796387, 0.12740217,\n",
              "        0.12795149, 0.11469768, 0.12615861],\n",
              "       [0.1273038 , 0.12169188, 0.12690638, 0.12803784, 0.12733762,\n",
              "        0.12783872, 0.11455254, 0.12633121],\n",
              "       [0.12729461, 0.12155224, 0.12674949, 0.12783082, 0.12751955,\n",
              "        0.1281528 , 0.11508164, 0.12581883],\n",
              "       [0.12728392, 0.12166005, 0.12685536, 0.12795384, 0.12741119,\n",
              "        0.12796654, 0.11473924, 0.12612987],\n",
              "       [0.1272826 , 0.12167935, 0.12687485, 0.12797718, 0.12739062,\n",
              "        0.12793118, 0.11467561, 0.12618864],\n",
              "       [0.12729672, 0.12155632, 0.12675563, 0.12784062, 0.12751101,\n",
              "        0.12813793, 0.11505946, 0.12584232],\n",
              "       [0.1272958 , 0.12159788, 0.12679915, 0.12789455, 0.12746361,\n",
              "        0.12805623, 0.11491576, 0.12597702],\n",
              "       [0.1273251 , 0.12140711, 0.12662096, 0.12769905, 0.12763551,\n",
              "        0.12835148, 0.11548209, 0.12547867],\n",
              "       [0.12728545, 0.12164147, 0.12683685, 0.12793198, 0.12743047,\n",
              "        0.12799966, 0.1147994 , 0.12607469],\n",
              "       [0.12729481, 0.12164453, 0.12684807, 0.12795532, 0.12741016,\n",
              "        0.12796414, 0.11475412, 0.12612891],\n",
              "       [0.12730853, 0.12158689, 0.12679824, 0.12790586, 0.12745392,\n",
              "        0.12803884, 0.11490784, 0.12599988],\n",
              "       [0.12733464, 0.12142987, 0.1266532 , 0.1277488 , 0.12759219,\n",
              "        0.12827606, 0.11536708, 0.12559819],\n",
              "       [0.12728609, 0.12165874, 0.12685584, 0.12795657, 0.12740883,\n",
              "        0.12796235, 0.11473579, 0.12613574],\n",
              "       [0.12728237, 0.12156636, 0.12675413, 0.1278247 , 0.12752469,\n",
              "        0.12816234, 0.11507671, 0.12580872],\n",
              "       [0.1272914 , 0.12163753, 0.1268377 , 0.12793887, 0.12742454,\n",
              "        0.12798913, 0.11479151, 0.12608935],\n",
              "       [0.1272865 , 0.12159187, 0.12678482, 0.12786737, 0.12748729,\n",
              "        0.12809761, 0.11497134, 0.12591322],\n",
              "       [0.1272981 , 0.12154425, 0.12674393, 0.12782721, 0.1275228 ,\n",
              "        0.12815821, 0.11509717, 0.12580839],\n",
              "       [0.12730822, 0.12158587, 0.1267969 , 0.12790386, 0.12745568,\n",
              "        0.12804186, 0.11491258, 0.12599503],\n",
              "       [0.12726668, 0.1214897 , 0.1266593 , 0.12769021, 0.1276422 ,\n",
              "        0.12836622, 0.11540464, 0.1254811 ],\n",
              "       [0.12731032, 0.1215356 , 0.1267451 , 0.12784065, 0.12751123,\n",
              "        0.12813759, 0.11508276, 0.12583672],\n",
              "       [0.12728588, 0.1216132 , 0.12680705, 0.12789479, 0.12746318,\n",
              "        0.12805603, 0.11489804, 0.12598181],\n",
              "       [0.1273049 , 0.12164294, 0.12685499, 0.12797394, 0.12739395,\n",
              "        0.12793568, 0.11472241, 0.12617116],\n",
              "       [0.12727953, 0.12163724, 0.1268273 , 0.12791413, 0.12744606,\n",
              "        0.12802689, 0.11483625, 0.12603262],\n",
              "       [0.12726861, 0.12176937, 0.12695839, 0.128064  , 0.12731446,\n",
              "        0.12779084, 0.11441002, 0.12642428],\n",
              "       [0.12729676, 0.1216502 , 0.12685579, 0.12796697, 0.12739992,\n",
              "        0.1279464 , 0.11472679, 0.1261572 ],\n",
              "       [0.12732397, 0.12151307, 0.12673269, 0.12783836, 0.12751351,\n",
              "        0.12814078, 0.11511231, 0.12582529],\n",
              "       [0.12730825, 0.12154722, 0.12675573, 0.127852  , 0.12750125,\n",
              "        0.12812047, 0.11504932, 0.12586582],\n",
              "       [0.12730323, 0.12155436, 0.12675908, 0.12785132, 0.12750173,\n",
              "        0.12812157, 0.11504244, 0.12586623],\n",
              "       [0.12730421, 0.12154116, 0.12674582, 0.12783557, 0.12751557,\n",
              "        0.12814541, 0.11508563, 0.12582664],\n",
              "       [0.1272976 , 0.12168406, 0.12689272, 0.12801446, 0.12735808,\n",
              "        0.12787431, 0.11460333, 0.1262754 ],\n",
              "       [0.12729159, 0.12161371, 0.12681246, 0.12790722, 0.12745239,\n",
              "        0.12803711, 0.11487516, 0.12601036],\n",
              "       [0.12730217, 0.12158742, 0.12679535, 0.12789886, 0.12745912,\n",
              "        0.12806177, 0.11491819, 0.12597713],\n",
              "       [0.12730181, 0.12155961, 0.12676346, 0.12785546, 0.12749806,\n",
              "        0.12811533, 0.11502907, 0.12587714],\n",
              "       [0.12730591, 0.12162274, 0.12683429, 0.12794879, 0.12741612,\n",
              "        0.12797381, 0.11479035, 0.12610798],\n",
              "       [0.12729801, 0.12161489, 0.12681918, 0.12792198, 0.12743954,\n",
              "        0.12801461, 0.11484734, 0.12604445],\n",
              "       [0.12730093, 0.12157216, 0.12677608, 0.12787049, 0.12748486,\n",
              "        0.1280926 , 0.11498798, 0.12591492],\n",
              "       [0.12727292, 0.12168468, 0.12687229, 0.12796444, 0.12740162,\n",
              "        0.12795065, 0.11469247, 0.12616093],\n",
              "       [0.12729295, 0.12168919, 0.12689422, 0.12801181, 0.12736034,\n",
              "        0.12787843, 0.11460236, 0.12627073],\n",
              "       [0.12728633, 0.12156812, 0.12675938, 0.12783518, 0.12751555,\n",
              "        0.12814637, 0.1150559 , 0.12583315],\n",
              "       [0.12730561, 0.12155528, 0.12676206, 0.1278574 , 0.12749647,\n",
              "        0.12811235, 0.11503055, 0.12588035],\n",
              "       [0.1273328 , 0.12147956, 0.12670451, 0.12781154, 0.1275372 ,\n",
              "        0.12818117, 0.11519828, 0.12575486],\n",
              "       [0.12729397, 0.12156434, 0.12676184, 0.12784573, 0.12750643,\n",
              "        0.12813023, 0.11504123, 0.12585622],\n",
              "       [0.12730531, 0.12156805, 0.12677543, 0.12787394, 0.12748192,\n",
              "        0.12808727, 0.1149864 , 0.1259217 ],\n",
              "       [0.12731892, 0.12156305, 0.12678166, 0.12789512, 0.1274636 ,\n",
              "        0.12805492, 0.11495401, 0.12596872],\n",
              "       [0.12729806, 0.12161897, 0.12682357, 0.12792757, 0.12743461,\n",
              "        0.12800613, 0.11483269, 0.12605835],\n",
              "       [0.12727383, 0.12168428, 0.12687264, 0.12796576, 0.12740049,\n",
              "        0.12794866, 0.11469056, 0.12616386],\n",
              "       [0.12728348, 0.12163977, 0.12683336, 0.12792568, 0.12743598,\n",
              "        0.12800927, 0.11481266, 0.12605976],\n",
              "       [0.12730743, 0.12157033, 0.12677966, 0.12788136, 0.12747543,\n",
              "        0.12807597, 0.11497049, 0.1259393 ],\n",
              "       [0.12728061, 0.12169675, 0.12689176, 0.1279966 , 0.12737346,\n",
              "        0.12790173, 0.11462115, 0.12623794],\n",
              "       [0.12730117, 0.12157621, 0.12678063, 0.12787646, 0.12747961,\n",
              "        0.12808353, 0.11497265, 0.12592971],\n",
              "       [0.12729618, 0.12157542, 0.12677552, 0.12786514, 0.12748945,\n",
              "        0.1281008 , 0.1149939 , 0.1259036 ],\n",
              "       [0.12730333, 0.12165193, 0.12686326, 0.12798284, 0.12738608,\n",
              "        0.1279222 , 0.11469631, 0.12619404],\n",
              "       [0.12729478, 0.12161732, 0.12681901, 0.1279186 , 0.12744245,\n",
              "        0.1280198 , 0.11485068, 0.12603739],\n",
              "       [0.1273086 , 0.12164713, 0.12686265, 0.12798724, 0.12738234,\n",
              "        0.12791544, 0.11469383, 0.12620278],\n",
              "       [0.12729348, 0.12163587, 0.12683772, 0.12794094, 0.12742276,\n",
              "        0.12798595, 0.11478966, 0.12609364],\n",
              "       [0.12730758, 0.12166436, 0.12688018, 0.12800844, 0.12736362,\n",
              "        0.12788329, 0.11463635, 0.12625614],\n",
              "       [0.12729384, 0.12160514, 0.12680523, 0.12790029, 0.12745853,\n",
              "        0.12804757, 0.11489725, 0.12599215],\n",
              "       [0.12728691, 0.12160962, 0.1268041 , 0.12789209, 0.12746558,\n",
              "        0.12806013, 0.11490694, 0.12597463],\n",
              "       [0.12730342, 0.12160565, 0.1268139 , 0.12792061, 0.12744085,\n",
              "        0.12801659, 0.11486023, 0.12603877],\n",
              "       [0.12729675, 0.12158957, 0.12679109, 0.1278853 , 0.12747177,\n",
              "        0.12807024, 0.11494175, 0.12595358],\n",
              "       [0.12729281, 0.12156796, 0.12676471, 0.12784821, 0.12750424,\n",
              "        0.1281265 , 0.1150327 , 0.12586288],\n",
              "       [0.12729076, 0.12159669, 0.12679358, 0.12788258, 0.12747402,\n",
              "        0.12807447, 0.11493859, 0.12594934],\n",
              "       [0.1272821 , 0.12171912, 0.12691696, 0.12802993, 0.12734409,\n",
              "        0.12785108, 0.11453609, 0.12632059],\n",
              "       [0.12730144, 0.12156422, 0.12676805, 0.12786084, 0.12749334,\n",
              "        0.1281072 , 0.11501423, 0.1258907 ],\n",
              "       [0.1272687 , 0.12176836, 0.12695745, 0.12806332, 0.127315  ,\n",
              "        0.12779261, 0.1144131 , 0.12642147],\n",
              "       [0.1272997 , 0.12159634, 0.12680082, 0.12790047, 0.12745848,\n",
              "        0.12804717, 0.11490685, 0.12599012],\n",
              "       [0.1273001 , 0.1215783 , 0.12678356, 0.12788631, 0.12747549,\n",
              "        0.12807462, 0.1149568 , 0.12594481],\n",
              "       [0.1272822 , 0.12163215, 0.12682414, 0.12791273, 0.12744734,\n",
              "        0.12802891, 0.11484446, 0.12602808],\n",
              "       [0.12730376, 0.12157505, 0.12678158, 0.12788017, 0.12747642,\n",
              "        0.12807788, 0.11496733, 0.12593785],\n",
              "       [0.12731865, 0.12153378, 0.12675025, 0.12785527, 0.12749857,\n",
              "        0.12811528, 0.11505857, 0.1258696 ],\n",
              "       [0.12728663, 0.12164258, 0.12683904, 0.1279359 , 0.12742706,\n",
              "        0.12799372, 0.11479113, 0.12608396],\n",
              "       [0.12731515, 0.12161907, 0.12683825, 0.12796284, 0.12740396,\n",
              "        0.12795232, 0.11476924, 0.12613915],\n",
              "       [0.12730661, 0.12151184, 0.12671666, 0.12780122, 0.12754576,\n",
              "        0.12819739, 0.1151804 , 0.12574017],\n",
              "       [0.12729052, 0.12166789, 0.12686938, 0.12797804, 0.12739003,\n",
              "        0.12792972, 0.11468695, 0.12618744],\n",
              "       [0.12729302, 0.1216543 , 0.126857  , 0.12796485, 0.1274017 ,\n",
              "        0.12794966, 0.11472592, 0.12615351],\n",
              "       [0.1272981 , 0.12158761, 0.12679017, 0.12788548, 0.12747163,\n",
              "        0.12806994, 0.11494362, 0.12595345],\n",
              "       [0.12729546, 0.12160312, 0.12680446, 0.12790091, 0.12745802,\n",
              "        0.1280466 , 0.11489844, 0.12599301],\n",
              "       [0.12728935, 0.12165146, 0.12685083, 0.12795345, 0.12741168,\n",
              "        0.12796706, 0.11474964, 0.12612657],\n",
              "       [0.12730177, 0.12151449, 0.12671538, 0.12779488, 0.1275512 ,\n",
              "        0.12820706, 0.11518875, 0.12572646],\n",
              "       [0.12729323, 0.12162786, 0.12682894, 0.1279296 , 0.12743273,\n",
              "        0.12800315, 0.11481904, 0.12606546],\n",
              "       [0.1272945 , 0.12168483, 0.12689088, 0.12800908, 0.12736277,\n",
              "        0.12788253, 0.11461214, 0.12626329],\n",
              "       [0.12730259, 0.12160485, 0.12681235, 0.12791784, 0.12744327,\n",
              "        0.1280208 , 0.11486608, 0.12603223],\n",
              "       [0.12730134, 0.1215627 , 0.12676635, 0.12785861, 0.1274953 ,\n",
              "        0.1281106 , 0.11501997, 0.12588517],\n",
              "       [0.12729108, 0.12157603, 0.12677184, 0.12785552, 0.1274978 ,\n",
              "        0.12811548, 0.11501051, 0.12588178],\n",
              "       [0.12733342, 0.12147143, 0.12669636, 0.12780188, 0.12754568,\n",
              "        0.12819579, 0.11522484, 0.12573059],\n",
              "       [0.12729497, 0.12154795, 0.12674522, 0.1278258 , 0.12752394,\n",
              "        0.12816039, 0.11509549, 0.12580621]], dtype=float32)"
            ]
          },
          "metadata": {},
          "execution_count": 55
        }
      ]
    },
    {
      "cell_type": "code",
      "source": [
        "import shutil\n",
        "shutil.copy('/content/defact_detection_highest.zip','/content/drive/MyDrive/')"
      ],
      "metadata": {
        "colab": {
          "base_uri": "https://localhost:8080/",
          "height": 35
        },
        "id": "KuCwbwaTvpRK",
        "outputId": "7843b55a-09d9-481d-bcd9-39fbbe9431ca"
      },
      "execution_count": 68,
      "outputs": [
        {
          "output_type": "execute_result",
          "data": {
            "text/plain": [
              "'/content/drive/MyDrive/defact_detection_highest.zip'"
            ],
            "application/vnd.google.colaboratory.intrinsic+json": {
              "type": "string"
            }
          },
          "metadata": {},
          "execution_count": 68
        }
      ]
    },
    {
      "cell_type": "code",
      "source": [
        "scores = model_final.evaluate(test)"
      ],
      "metadata": {
        "colab": {
          "base_uri": "https://localhost:8080/",
          "height": 175
        },
        "id": "atiP9DFPXUE3",
        "outputId": "7a8afccd-9373-41e2-afaf-3b83a89f3a6b"
      },
      "execution_count": 56,
      "outputs": [
        {
          "output_type": "error",
          "ename": "NameError",
          "evalue": "ignored",
          "traceback": [
            "\u001b[0;31m---------------------------------------------------------------------------\u001b[0m",
            "\u001b[0;31mNameError\u001b[0m                                 Traceback (most recent call last)",
            "\u001b[0;32m<ipython-input-56-fbab9cbbdfd8>\u001b[0m in \u001b[0;36m<cell line: 1>\u001b[0;34m()\u001b[0m\n\u001b[0;32m----> 1\u001b[0;31m \u001b[0mscores\u001b[0m \u001b[0;34m=\u001b[0m \u001b[0mmodel_final\u001b[0m\u001b[0;34m.\u001b[0m\u001b[0mevaluate\u001b[0m\u001b[0;34m(\u001b[0m\u001b[0mtest\u001b[0m\u001b[0;34m)\u001b[0m\u001b[0;34m\u001b[0m\u001b[0;34m\u001b[0m\u001b[0m\n\u001b[0m",
            "\u001b[0;31mNameError\u001b[0m: name 'test' is not defined"
          ]
        }
      ]
    }
  ]
}